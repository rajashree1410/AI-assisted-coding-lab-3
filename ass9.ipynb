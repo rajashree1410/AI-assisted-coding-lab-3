{
  "nbformat": 4,
  "nbformat_minor": 0,
  "metadata": {
    "colab": {
      "provenance": []
    },
    "kernelspec": {
      "name": "python3",
      "display_name": "Python 3"
    },
    "language_info": {
      "name": "python"
    }
  },
  "cells": [
    {
      "cell_type": "code",
      "execution_count": null,
      "metadata": {
        "id": "XrMGW1BHe5mY"
      },
      "outputs": [],
      "source": []
    },
    {
      "cell_type": "markdown",
      "source": [
        "Task 1:Use an AI tool (e.g., Copilot, Gemini, Cursor) to generate a login system. Review the\n",
        "generated code for hardcoded passwords, plain-text storage, or lack of encryption"
      ],
      "metadata": {
        "id": "Ml4I6V-AfRFN"
      }
    },
    {
      "cell_type": "code",
      "metadata": {
        "colab": {
          "base_uri": "https://localhost:8080/"
        },
        "id": "d03222d5",
        "outputId": "34932ffc-e20c-41d1-e3ba-765c3090048d"
      },
      "source": [
        "import hashlib\n",
        "\n",
        "def create_single_user(username, password):\n",
        "  \"\"\"Creates a single user with a hashed password.\"\"\"\n",
        "  hashed_password = hashlib.sha256(password.encode()).hexdigest()\n",
        "  return {\"username\": username, \"password_hash\": hashed_password}\n",
        "\n",
        "def authenticate_single_user(username, password, user_data):\n",
        "  \"\"\"Authenticates a single user against stored data.\"\"\"\n",
        "  if user_data and user_data[\"username\"] == username:\n",
        "    provided_password_hash = hashlib.sha256(password.encode()).hexdigest()\n",
        "    if user_data[\"password_hash\"] == provided_password_hash:\n",
        "      return True  # Authentication successful\n",
        "  return False # Authentication failed\n",
        "\n",
        "# In a real application, user data would be stored securely\n",
        "# and not hardcoded like this. For this example, we'll create one user.\n",
        "# ***SECURITY WARNING: Do NOT hardcode credentials in a real application.***\n",
        "stored_user_data = create_single_user(\"my_user\", \"my_secure_password\")\n",
        "\n",
        "# Take dynamic input for login attempt\n",
        "input_username = input(\"Enter your username: \")\n",
        "input_password = input(\"Enter your password: \")\n",
        "\n",
        "# Authenticate the user\n",
        "if authenticate_single_user(input_username, input_password, stored_user_data):\n",
        "  print(\"Login successful!\")\n",
        "else:\n",
        "  print(\"Login failed. Invalid username or password.\")"
      ],
      "execution_count": null,
      "outputs": [
        {
          "output_type": "stream",
          "name": "stdout",
          "text": [
            "Enter your username: Brahmani\n",
            "Enter your password: 1234\n",
            "Login failed. Invalid username or password.\n"
          ]
        }
      ]
    },
    {
      "cell_type": "markdown",
      "metadata": {
        "id": "7bdabdf8"
      },
      "source": [
        "**Review of the generated code for a single-user login system:**\n",
        "\n",
        "*   **Hardcoded credentials:** The code **does** hardcode the username and password (`\"my_user\"`, `\"my_secure_password\"`) when creating the `stored_user_data`. This is a **major security vulnerability** and should **never** be done in a real-world application. User credentials should be stored securely, ideally in a database with proper access controls.\n",
        "*   **Plain-text storage:** The code **does not** store the password in plain text. It uses `hashlib.sha256` to create a one-way hash of the password before storing it. This is a good practice for protecting passwords at rest.\n",
        "*   **Lack of encryption (in transit):** While hashing protects the password when stored, this basic example **does not** encrypt the password when it's entered by the user and processed by the script. In a real application, especially a web-based one, you would need to use HTTPS to encrypt the communication between the client (user's browser) and the server to prevent credentials from being intercepted in transit.\n",
        "\n",
        "**Recommendations for a secure single-user login system (and multi-user systems):**\n",
        "\n",
        "*   **Avoid hardcoding credentials:** Store credentials securely outside of your code, using environment variables, configuration files, or a secrets management system.\n",
        "*   **Secure storage:** If storing user data, use a secure database and ensure proper access controls are in place.\n",
        "*   **Salt and hash passwords:** Always use a strong, modern hashing algorithm (like bcrypt or scrypt) and combine the password with a unique salt before hashing.\n",
        "*   **Use HTTPS:** Encrypt all communication involving credentials using HTTPS.\n",
        "*   **Input validation and sanitization:** Validate and sanitize user input to prevent injection attacks.\n",
        "*   **Rate limiting:** Implement rate limiting on login attempts to mitigate brute-force attacks."
      ]
    },
    {
      "cell_type": "code",
      "source": [],
      "metadata": {
        "id": "hrj2pad-f_s6"
      },
      "execution_count": null,
      "outputs": []
    },
    {
      "cell_type": "code",
      "metadata": {
        "colab": {
          "base_uri": "https://localhost:8080/"
        },
        "id": "7b165f96",
        "outputId": "5b7ca807-3dac-41f7-87ec-80a5ebaf701e"
      },
      "source": [
        "import hashlib\n",
        "\n",
        "def create_user(username, password):\n",
        "  \"\"\"Creates a user with a hashed password.\"\"\"\n",
        "  hashed_password = hashlib.sha256(password.encode()).hexdigest()\n",
        "  return {\"username\": username, \"password_hash\": hashed_password}\n",
        "\n",
        "def authenticate_user(username, password, users_data):\n",
        "  \"\"\"Authenticates a user against stored data for multiple users.\"\"\"\n",
        "  for user in users_data:\n",
        "    if user[\"username\"] == username:\n",
        "      provided_password_hash = hashlib.sha256(password.encode()).hexdigest()\n",
        "      if user[\"password_hash\"] == provided_password_hash:\n",
        "        return True  # Authentication successful\n",
        "  return False # Authentication failed\n",
        "\n",
        "# In a real application, users data would be stored securely\n",
        "# and not hardcoded like this. For this example, we'll create a few users.\n",
        "# ***SECURITY WARNING: Do NOT hardcode credentials in a real application.***\n",
        "stored_users_data = [\n",
        "    create_user(\"user1\", \"password123\"),\n",
        "    create_user(\"user2\", \"securepwd456\"),\n",
        "    create_user(\"user3\", \"mysecret789\")\n",
        "]\n",
        "\n",
        "# Take dynamic input for login attempt\n",
        "input_username = input(\"Enter your username: \")\n",
        "input_password = input(\"Enter your password: \")\n",
        "\n",
        "# Authenticate the user\n",
        "if authenticate_user(input_username, input_password, stored_users_data):\n",
        "  print(\"Login successful!\")\n",
        "else:\n",
        "  print(\"Login failed. Invalid username or password.\")"
      ],
      "execution_count": null,
      "outputs": [
        {
          "output_type": "stream",
          "name": "stdout",
          "text": [
            "Enter your username: BRAHMANI\n",
            "Enter your password: 22345&\n",
            "Login failed. Invalid username or password.\n"
          ]
        }
      ]
    },
    {
      "cell_type": "markdown",
      "metadata": {
        "id": "3510e7d4"
      },
      "source": [
        "**Review of the generated code for a multi-user login system:**\n",
        "\n",
        "*   **Hardcoded credentials:** Similar to the single-user example, this code **does** hardcode the usernames and passwords when creating the `stored_users_data` list. This is a **major security vulnerability** and should **never** be done in a real-world application. User credentials for multiple users should be stored securely, ideally in a database with proper access controls.\n",
        "*   **Plain-text storage:** The code **does not** store the passwords in plain text. It uses `hashlib.sha256` to create a one-way hash of each password before storing it. This is a good practice for protecting passwords at rest.\n",
        "*   **Lack of encryption (in transit):** While hashing protects the passwords when stored, this basic example **does not** encrypt the password when it's entered by the user and processed by the script. In a real application, especially a web-based one, you would need to use HTTPS to encrypt the communication between the client (user's browser) and the server to prevent credentials from being intercepted in transit.\n",
        "\n",
        "**Recommendations for a secure multi-user login system:**\n",
        "\n",
        "*   **Avoid hardcoding credentials:** Store credentials securely outside of your code, using environment variables, configuration files, or a secrets management system.\n",
        "*   **Secure storage:** If storing user data, use a secure database and ensure proper access controls are in place.\n",
        "*   **Salt and hash passwords:** Always use a strong, modern hashing algorithm (like bcrypt or scrypt) and combine the password with a unique salt before hashing.\n",
        "*   **Use HTTPS:** Encrypt all communication involving credentials using HTTPS.\n",
        "*   **Input validation and sanitization:** Validate and sanitize user input to prevent injection attacks.\n",
        "*   **Rate limiting:** Implement rate limiting on login attempts to mitigate brute-force attacks.\n",
        "*   **Session management:** Implement secure session management to keep track of logged-in users."
      ]
    },
    {
      "cell_type": "markdown",
      "source": [
        "Task 2: Use prompt variations like: “loan approval for John”, “loan approval for Priya”, etc.\n",
        "Evaluate whether the AI-generated logic exhibits bias or differing criteria based on\n",
        "names or genders"
      ],
      "metadata": {
        "id": "MwhXlqA_hPsN"
      }
    },
    {
      "cell_type": "markdown",
      "source": [
        "Prompt:Give me a code  that use prompt variations like:\"loan approval for john\",\"loan approval for priya\",etc. evaluate whether  the AI-genearted logic exhibits bias or differing based on names or genders in python.Take dynamic input and print output"
      ],
      "metadata": {
        "id": "GfoCYBw0h9yJ"
      }
    },
    {
      "cell_type": "code",
      "source": [],
      "metadata": {
        "id": "S09PN-wniAp-"
      },
      "execution_count": null,
      "outputs": []
    },
    {
      "cell_type": "code",
      "metadata": {
        "colab": {
          "base_uri": "https://localhost:8080/"
        },
        "id": "baeb9f15",
        "outputId": "d15625be-6e89-4df6-cf71-8629f19b70ef"
      },
      "source": [
        "def loan_approval(name):\n",
        "  \"\"\"\n",
        "  Simulates a loan approval process based on the input name.\n",
        "  This is a very simplified example for demonstration purposes and\n",
        "  does not represent a real-world scenario.\n",
        "  \"\"\"\n",
        "  # Simple logic to simulate potential bias (replace with your AI's logic)\n",
        "  # This example uses arbitrary conditions based on names for demonstration.\n",
        "  if name.lower() in [\"john\", \"michael\", \"david\"]:\n",
        "    return f\"Loan approved for {name}\"\n",
        "  elif name.lower() in [\"priya\", \"ananya\", \"sophia\"]:\n",
        "    return f\"Loan pending review for {name}\"\n",
        "  else:\n",
        "    return f\"Loan application received for {name}\"\n",
        "\n",
        "# Take dynamic input\n",
        "user_name = input(\"Enter the applicant's name: \")\n",
        "\n",
        "# Get the loan approval result\n",
        "result = loan_approval(user_name)\n",
        "\n",
        "# Print the output\n",
        "print(result)\n",
        "\n",
        "# Evaluation of potential bias (based on the simplistic logic above)\n",
        "# In a real scenario, you would analyze the outputs of your AI tool\n",
        "# with various names and genders to identify bias.\n",
        "print(\"\\nEvaluating potential bias:\")\n",
        "print(f\"For 'John': {loan_approval('John')}\")\n",
        "print(f\"For 'Priya': {loan_approval('Priya')}\")\n",
        "print(f\"For 'Michael': {loan_approval('Michael')}\")\n",
        "print(f\"For 'Ananya': {loan_approval('Ananya')}\")\n",
        "print(f\"For 'David': {loan_approval('David')}\")\n",
        "print(f\"For 'Sophia': {loan_approval('Sophia')}\")\n",
        "print(f\"For 'Chris': {loan_approval('Chris')}\")"
      ],
      "execution_count": null,
      "outputs": [
        {
          "output_type": "stream",
          "name": "stdout",
          "text": [
            "Enter the applicant's name: john\n",
            "Loan approved for john\n",
            "\n",
            "Evaluating potential bias:\n",
            "For 'John': Loan approved for John\n",
            "For 'Priya': Loan pending review for Priya\n",
            "For 'Michael': Loan approved for Michael\n",
            "For 'Ananya': Loan pending review for Ananya\n",
            "For 'David': Loan approved for David\n",
            "For 'Sophia': Loan pending review for Sophia\n",
            "For 'Chris': Loan application received for Chris\n"
          ]
        }
      ]
    },
    {
      "cell_type": "markdown",
      "source": [
        "Task 3:Write prompt to write function calculate the nth Fibonacci number using recursion\n",
        "and generate comments and explain code document"
      ],
      "metadata": {
        "id": "LhUrxg7ajFLa"
      }
    },
    {
      "cell_type": "markdown",
      "source": [
        "Prompt: give me a code that generate a python function to calculate the nth fibonacci number using recursion and generate comments ad explain code document"
      ],
      "metadata": {
        "id": "QBfkRTbzjg2E"
      }
    },
    {
      "cell_type": "code",
      "metadata": {
        "colab": {
          "base_uri": "https://localhost:8080/"
        },
        "id": "03c74c1b",
        "outputId": "69a1692f-b943-4a2b-9201-43737cfe8641"
      },
      "source": [
        "def fibonacci_recursive(n):\n",
        "  \"\"\"\n",
        "  Calculates the nth Fibonacci number using recursion.\n",
        "\n",
        "  The Fibonacci sequence is a series of numbers where each number\n",
        "  is the sum of the two preceding ones, usually starting with 0 and 1.\n",
        "  The sequence begins: 0, 1, 1, 2, 3, 5, 8, 13, ...\n",
        "\n",
        "  Args:\n",
        "    n: The position of the desired Fibonacci number (a non-negative integer).\n",
        "\n",
        "  Returns:\n",
        "    The nth Fibonacci number.\n",
        "\n",
        "  Raises:\n",
        "    ValueError: If the input n is a negative integer.\n",
        "  \"\"\"\n",
        "  # Base cases for the recursion\n",
        "  if n < 0:\n",
        "    raise ValueError(\"Input must be a non-negative integer\")\n",
        "  elif n == 0:\n",
        "    return 0\n",
        "  elif n == 1:\n",
        "    return 1\n",
        "  else:\n",
        "    # Recursive step: the nth Fibonacci number is the sum of the (n-1)th and (n-2)th\n",
        "    return fibonacci_recursive(n - 1) + fibonacci_recursive(n - 2)\n",
        "\n",
        "# Take dynamic input from the user\n",
        "try:\n",
        "  num = int(input(\"Enter a non-negative integer to find the Fibonacci number: \"))\n",
        "  fib_number = fibonacci_recursive(num)\n",
        "  print(f\"The {num}th Fibonacci number is: {fib_number}\")\n",
        "except ValueError as e:\n",
        "  print(f\"Error: {e}\")\n",
        "except RecursionError:\n",
        "  print(f\"Error: Input number is too large for this recursive approach. Consider an iterative solution for larger numbers.\")"
      ],
      "execution_count": null,
      "outputs": [
        {
          "output_type": "stream",
          "name": "stdout",
          "text": [
            "Enter a non-negative integer to find the Fibonacci number: 23\n",
            "The 23th Fibonacci number is: 28657\n"
          ]
        }
      ]
    },
    {
      "cell_type": "markdown",
      "metadata": {
        "id": "1a6ae5fc"
      },
      "source": [
        "**Code Explanation:**\n",
        "\n",
        "*   **`fibonacci_recursive(n)` function:**\n",
        "    *   This function takes one argument, `n`, which represents the position of the Fibonacci number you want to find (starting from position 0).\n",
        "    *   **Docstring:** The triple-quoted string at the beginning of the function is a docstring. It explains what the function does, its arguments (`Args`), what it returns (`Returns`), and potential errors it might raise (`Raises`). This is good practice for documenting your code.\n",
        "    *   **Base Cases:** The `if n < 0:`, `elif n == 0:`, and `elif n == 1:` conditions are the base cases of the recursion. These are essential to stop the recursive calls and provide known values.\n",
        "        *   If `n` is negative, it raises a `ValueError` because the Fibonacci sequence is typically defined for non-negative integers.\n",
        "        *   If `n` is 0, it returns 0 (the first Fibonacci number).\n",
        "        *   If `n` is 1, it returns 1 (the second Fibonacci number).\n",
        "    *   **Recursive Step:** The `else:` block contains the recursive call. It calculates the nth Fibonacci number by calling the `fibonacci_recursive` function for `n-1` and `n-2` and adding their results. This process continues until it reaches the base cases.\n",
        "*   **Dynamic Input and Output:**\n",
        "    *   The code prompts the user to enter a non-negative integer using `input()`.\n",
        "    *   `int()` converts the user's input into an integer.\n",
        "    *   A `try...except` block is used to handle potential `ValueError` if the user enters non-integer input or a negative number, and `RecursionError` for very large inputs that could exceed the recursion depth limit.\n",
        "    *   The calculated Fibonacci number is stored in the `fib_number` variable.\n",
        "    *   Finally, the code prints the result using an f-string for clear output.\n",
        "\n",
        "**Note on Recursion:** While recursion is a conceptually elegant way to define the Fibonacci sequence, this specific recursive implementation is not the most efficient for large values of `n` due to repeated calculations. For larger numbers, an iterative approach is generally preferred for performance."
      ]
    },
    {
      "cell_type": "markdown",
      "source": [
        "Task 4:Ask to generate a job applicant scoring system based on input features (e.g.,\n",
        "education, experience, gender, age). Analyze the scoring logic for bias or unfair\n",
        "weightings"
      ],
      "metadata": {
        "id": "xrR3_fnHkLbh"
      }
    },
    {
      "cell_type": "markdown",
      "source": [
        "Prompt:Give me a code that generate a job applicant scoring system based on input features.Analyze the scoring logic for bias or unfair weightings"
      ],
      "metadata": {
        "id": "98oNElQ9kN76"
      }
    },
    {
      "cell_type": "code",
      "source": [],
      "metadata": {
        "id": "XDydRM1mkph2"
      },
      "execution_count": null,
      "outputs": []
    },
    {
      "cell_type": "code",
      "metadata": {
        "colab": {
          "base_uri": "https://localhost:8080/"
        },
        "id": "b0c3ba81",
        "outputId": "00359277-0e9e-4116-eef4-21bec85f22bf"
      },
      "source": [
        "def score_applicant(education, experience, gender, age):\n",
        "  \"\"\"\n",
        "  Simulates a job applicant scoring system.\n",
        "  This is a simplified example to demonstrate potential bias.\n",
        "  In a real system, scoring would be much more complex and based on\n",
        "  job-specific criteria and validated metrics.\n",
        "  \"\"\"\n",
        "  score = 0\n",
        "\n",
        "  # Scoring based on education (example weighting)\n",
        "  education_weights = {\n",
        "      \"high school\": 5,\n",
        "      \"associate's degree\": 10,\n",
        "      \"bachelor's degree\": 15,\n",
        "      \"master's degree\": 20,\n",
        "      \"phd\": 25\n",
        "  }\n",
        "  score += education_weights.get(education.lower(), 0)\n",
        "\n",
        "  # Scoring based on experience (example weighting)\n",
        "  # Assuming each year of experience adds 2 points\n",
        "  score += experience * 2\n",
        "\n",
        "  # Scoring based on gender (example of potential bias - REMOVE IN REAL SYSTEM)\n",
        "  # This is included *only* to demonstrate how bias can be introduced.\n",
        "  if gender.lower() == \"female\":\n",
        "      score += 3 # Arbitrary bonus for demonstration of bias\n",
        "  elif gender.lower() == \"male\":\n",
        "      score += 1 # Arbitrary smaller bonus\n",
        "  else:\n",
        "      score += 2 # Neutral score for other genders\n",
        "\n",
        "  # Scoring based on age (example of potential bias - REMOVE IN REAL SYSTEM)\n",
        "  # This is included *only* to demonstrate how bias can be introduced.\n",
        "  if age < 25:\n",
        "      score += 2 # Arbitrary bonus for younger applicants\n",
        "  elif age > 45:\n",
        "      score -= 5 # Arbitrary penalty for older applicants\n",
        "\n",
        "  return score\n",
        "\n",
        "# Take dynamic input\n",
        "try:\n",
        "  education_input = input(\"Enter education level (e.g., high school, bachelor's degree): \")\n",
        "  experience_input = int(input(\"Enter years of experience: \"))\n",
        "  gender_input = input(\"Enter gender: \")\n",
        "  age_input = int(input(\"Enter age: \"))\n",
        "\n",
        "  applicant_score = score_applicant(education_input, experience_input, gender_input, age_input)\n",
        "  print(f\"\\nApplicant Score: {applicant_score}\")\n",
        "\n",
        "except ValueError:\n",
        "  print(\"Invalid input. Please ensure experience and age are numbers.\")\n",
        "\n",
        "\n",
        "# Analysis of potential bias\n",
        "# In a real scenario, you would analyze the scoring logic and results\n",
        "# with diverse data to identify and mitigate bias."
      ],
      "execution_count": null,
      "outputs": [
        {
          "output_type": "stream",
          "name": "stdout",
          "text": [
            "Enter education level (e.g., high school, bachelor's degree): high school\n",
            "Enter years of experience: 4\n",
            "Enter gender: female\n",
            "Enter age: 25\n",
            "\n",
            "Applicant Score: 16\n"
          ]
        }
      ]
    },
    {
      "cell_type": "markdown",
      "metadata": {
        "id": "1c34bb77"
      },
      "source": [
        "**Analysis of Potential Bias and Unfair Weightings:**\n",
        "\n",
        "The provided code snippet for a job applicant scoring system is a simplified example and **explicitly includes potential biases** based on gender and age to demonstrate how they can be introduced into such systems. **In a real-world, fair, and ethical system, these biases should be removed.**\n",
        "\n",
        "Here's an analysis of the potential bias in this example:\n",
        "\n",
        "*   **Gender Bias:** The code assigns arbitrary bonus points based on gender (`female` receives a higher bonus than `male`, and `other` receives a neutral score). This is a clear example of unfair weighting based on a protected characteristic. A fair system should not include gender as a factor in scoring unless there is a legitimate occupational qualification (which is rare and subject to legal scrutiny).\n",
        "*   **Age Bias:** The code assigns arbitrary bonus points to younger applicants (`age < 25`) and a penalty to older applicants (`age > 45`). This is an example of age discrimination, which is illegal in many jurisdictions. A fair system should not penalize or reward applicants based solely on their age.\n",
        "*   **Education and Experience Weighting:** The weights assigned to education levels and years of experience are arbitrary in this example. In a real system, these weights should be determined based on a thorough analysis of the job requirements and what factors genuinely contribute to success in the role. Unfair weightings can disadvantage certain groups of applicants.\n",
        "\n",
        "**Recommendations for Building a Fair Scoring System:**\n",
        "\n",
        "*   **Remove Biased Features:** Absolutely **do not** include protected characteristics like gender, age, race, religion, etc., in your scoring criteria unless legally permissible (which is rare).\n",
        "*   **Job-Related Criteria:** Base scoring solely on criteria that are directly relevant to the job requirements and predict job performance.\n",
        "*   **Data-Driven Weighting:** Use data analysis to determine the appropriate weights for different criteria. Analyze the performance of past employees to see which factors are truly predictive of success.\n",
        "*   **Regular Audits:** Regularly audit your scoring system and its outcomes for disparate impact on different groups.\n",
        "*   **Transparency:** Be transparent about the scoring criteria (without revealing proprietary algorithms) to applicants.\n",
        "*   **Validation:** Validate your scoring system to ensure it is accurately predicting job performance and not introducing unintended bias.\n",
        "*   **Consider Alternative Approaches:** Explore alternative approaches to applicant evaluation that may be less prone to bias, such as blind resume reviews or structured interviews.\n",
        "\n",
        "This example serves as a cautionary tale. Building fair and unbiased AI systems requires careful consideration of the data used, the algorithms employed, and continuous monitoring and evaluation for potential biases."
      ]
    },
    {
      "cell_type": "markdown",
      "source": [
        "Task 5 Prompt:\"Write a Python function greet_user(name, gender=None) that greets the user in an inclusive way. The function should not assume binary gender (male/female) or marital status. If gender is provided, use a gender-neutral title like 'Mx.'; otherwise, greet with just the name."
      ],
      "metadata": {
        "id": "KbEdIEwosvCr"
      }
    },
    {
      "cell_type": "code",
      "metadata": {
        "colab": {
          "base_uri": "https://localhost:8080/"
        },
        "id": "92a791cf",
        "outputId": "bd6adbaf-e3fa-455d-f754-a7e5493717c9"
      },
      "source": [
        "def greet_user(name, gender=None):\n",
        "  \"\"\"\n",
        "  Greets the user in an inclusive way.\n",
        "\n",
        "  Does not assume binary gender or marital status.\n",
        "  If gender is provided, uses a gender-neutral title 'Mx.';\n",
        "  otherwise, greets with just the name.\n",
        "\n",
        "  Args:\n",
        "    name: The name of the user (string).\n",
        "    gender: The gender of the user (string, optional). Defaults to None.\n",
        "  \"\"\"\n",
        "  if gender is not None:\n",
        "    print(f\"Hello, Mx. {name}!\")\n",
        "  else:\n",
        "    print(f\"Hello, {name}!\")\n",
        "\n",
        "# Take dynamic input from the user\n",
        "user_name = input(\"Enter your name: \")\n",
        "user_gender = input(\"Enter your gender (optional, press Enter if not providing): \")\n",
        "\n",
        "# Call the greet_user function with dynamic input\n",
        "if user_gender:\n",
        "  greet_user(user_name, user_gender)\n",
        "else:\n",
        "  greet_user(user_name)"
      ],
      "execution_count": null,
      "outputs": [
        {
          "output_type": "stream",
          "name": "stdout",
          "text": [
            "Enter your name: Brahmani\n",
            "Enter your gender (optional, press Enter if not providing): Female\n",
            "Hello, Mx. Brahmani!\n"
          ]
        }
      ]
    },
    {
      "cell_type": "markdown",
      "source": [
        "Explanation:This code defines a Python function called greet_user that is designed to greet a user in an inclusive way.\n",
        "\n",
        "Here's a breakdown of the code:\n",
        "\n",
        "def greet_user(name, gender=None):: This line defines the function greet_user. It takes two arguments:\n",
        "name: This is a required argument for the user's name.\n",
        "gender=None: This is an optional argument for the user's gender. It has a default value of None, meaning if you don't provide a value for gender when calling the function, it will be None.\n",
        "\"\"\" ... \"\"\": This is a docstring. It explains what the function does, its purpose of being inclusive, and describes the arguments. Docstrings are helpful for documenting your code.\n",
        "if gender is not None:: This line checks if a value was provided for the gender argument. is not None is a way to check if the gender variable has a value other than its default None.\n",
        "print(f\"Hello, Mx. {name}!\"): If a gender was provided (i.e., the if condition is true), this line prints a greeting using an f-string. It includes the gender-neutral title \"Mx.\" followed by the user's name.\n",
        "else:: This is the block of code that runs if the if gender is not None: condition is false (meaning no gender was provided).\n",
        "print(f\"Hello, {name}!\"): If no gender was provided, this line prints a simple greeting using an f-string with just \"Hello,\" followed by the user's name.\n",
        "Taking Dynamic Input: The lines outside the function definition are for getting input from the user:\n",
        "user_name = input(\"Enter your name: \"): This line prompts the user to enter their name and stores it in the user_name variable.\n",
        "user_gender = input(\"Enter your gender (optional, press Enter if not providing): \"): This line prompts the user to enter their gender. It indicates that this input is optional.\n",
        "Calling the function with dynamic input:\n",
        "if user_gender:: This checks if the user_gender variable has any value (meaning the user typed something in for gender).\n",
        "greet_user(user_name, user_gender): If user_gender has a value, the greet_user function is called with both the name and gender.\n",
        "else:: If user_gender is empty (the user just pressed Enter), this block runs.\n",
        "greet_user(user_name): The greet_user function is called with only the name, and the gender argument will be its default value of None."
      ],
      "metadata": {
        "id": "UYOAPre_vBg4"
      }
    }
  ]
}
