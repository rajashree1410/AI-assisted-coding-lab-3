{
  "nbformat": 4,
  "nbformat_minor": 0,
  "metadata": {
    "colab": {
      "provenance": [],
      "authorship_tag": "ABX9TyNuAzeUs9MkvyFi64ENQLFo",
      "include_colab_link": true
    },
    "kernelspec": {
      "name": "python3",
      "display_name": "Python 3"
    },
    "language_info": {
      "name": "python"
    }
  },
  "cells": [
    {
      "cell_type": "markdown",
      "metadata": {
        "id": "view-in-github",
        "colab_type": "text"
      },
      "source": [
        "<a href=\"https://colab.research.google.com/github/rajashree1410/AI-assisted-coding-lab-3/blob/main/ass13.ipynb\" target=\"_parent\"><img src=\"https://colab.research.google.com/assets/colab-badge.svg\" alt=\"Open In Colab\"/></a>"
      ]
    },
    {
      "cell_type": "code",
      "execution_count": null,
      "metadata": {
        "id": "LcZ7nu-ow43J"
      },
      "outputs": [],
      "source": [
        "task:1Provide AI with the following redundant code and ask it to refactor"
      ]
    },
    {
      "cell_type": "markdown",
      "source": [
        "prompt:generate a code with the following redundant code and ask it to refactor Python Code\n",
        "def calculate_area(shape, x, y=0):\n",
        "if shape == \"rectangle\":\n",
        "return x * y\n",
        "elif shape == \"square\":\n",
        "return x * x\n",
        "elif shape == \"circle\":\n",
        "return 3.14 * x * x\n",
        "\n"
      ],
      "metadata": {
        "id": "sWVoiYjx2Nuu"
      }
    },
    {
      "cell_type": "code",
      "source": [],
      "metadata": {
        "id": "HK2_Ly692nXA"
      },
      "execution_count": null,
      "outputs": []
    },
    {
      "cell_type": "code",
      "metadata": {
        "colab": {
          "base_uri": "https://localhost:8080/"
        },
        "id": "6a25c5fd",
        "outputId": "5222367a-88be-4058-c5ba-913aaef58396"
      },
      "source": [
        "import math\n",
        "\n",
        "def calculate_area(shape, x, y=0):\n",
        "    \"\"\"Calculates the area of different shapes.\"\"\"\n",
        "    if shape == \"rectangle\":\n",
        "        return x * y\n",
        "    elif shape == \"square\":\n",
        "        return x * x\n",
        "    elif shape == \"circle\":\n",
        "        return math.pi * x * x\n",
        "    else:\n",
        "        return \"Invalid shape\"\n",
        "\n",
        "# Example usage:\n",
        "print(calculate_area(\"rectangle\", 5, 10))\n",
        "print(calculate_area(\"square\", 7))\n",
        "print(calculate_area(\"circle\", 3))\n",
        "print(calculate_area(\"triangle\", 4, 6))"
      ],
      "execution_count": 1,
      "outputs": [
        {
          "output_type": "stream",
          "name": "stdout",
          "text": [
            "50\n",
            "49\n",
            "28.274333882308138\n",
            "Invalid shape\n"
          ]
        }
      ]
    },
    {
      "cell_type": "markdown",
      "source": [
        "explanation:import math: This line imports the math module, which provides access to mathematical functions and constants, including math.pi for the value of Pi.\n",
        "def calculate_area(shape, x, y=0):: This defines the function calculate_area that takes three arguments:\n",
        "shape: A string representing the name of the shape (e.g., \"rectangle\", \"square\", \"circle\").\n",
        "x: A number, which is typically the main dimension of the shape (e.g., side length for a square, radius for a circle, one side for a rectangle).\n",
        "y=0: An optional number with a default value of 0. This is used for shapes that require a second dimension, like a rectangle (where it represents the other side).\n",
        "\"\"\"Calculates the area of different shapes.\"\"\": This is a docstring, which explains what the function does.\n",
        "if shape == \"rectangle\": return x * y: This is the first conditional statement. If the shape is \"rectangle\", it calculates the area by multiplying x and y and returns the result.\n",
        "elif shape == \"square\": return x * x: This is the next conditional statement. If the shape is \"square\", it calculates the area by squaring x (side * side) and returns the result.\n",
        "elif shape == \"circle\": return math.pi * x * x: This is the next conditional statement. If the shape is \"circle\", it calculates the area by multiplying Pi (math.pi) by the square of x (radius * radius) and returns the result.\n",
        "else: return \"Invalid shape\": If the shape provided does not match any of the above cases, the function returns the string \"Invalid shape\".\n",
        "# Example usage:: This section shows how to call the calculate_area function with different shapes and dimensions.\n",
        "print(...): These lines print the results of calling the calculate_area function with the specified arguments."
      ],
      "metadata": {
        "id": "NpAr84fv25k3"
      }
    },
    {
      "cell_type": "code",
      "source": [
        "task2:Legacy function without proper error handling"
      ],
      "metadata": {
        "id": "yZm_jYjW3Zbt"
      },
      "execution_count": null,
      "outputs": []
    },
    {
      "cell_type": "markdown",
      "source": [
        "prompt: generate a code for error handling def read_file(filename):\n",
        "f = open(filename, \"r\")\n",
        "data = f.read()\n",
        "f.close()\n",
        "return data"
      ],
      "metadata": {
        "id": "lH8sbS7j3hgr"
      }
    },
    {
      "cell_type": "code",
      "source": [
        "def read_file_refactored(filename):\n",
        "    \"\"\"Reads a file with proper error handling using with open() and try-except.\"\"\"\n",
        "    try:\n",
        "        with open(filename, 'r') as f:\n",
        "            data = f.read()\n",
        "        return data\n",
        "    except FileNotFoundError:\n",
        "        print(f\"Error: The file '{filename}' was not found.\")\n",
        "        return None\n",
        "    except Exception as e:\n",
        "        print(f\"An unexpected error occurred while reading the file '{filename}': {e}\")\n",
        "        return None\n",
        "\n",
        "# Example usage\n",
        "# Create a dummy file for testing\n",
        "with open(\"my_test_file.txt\", \"w\") as f:\n",
        "    f.write(\"This is some test content.\")\n",
        "\n",
        "# Get filename dynamically from user input\n",
        "filename_to_read = input(\"Enter the name of the file you want to read: \")\n",
        "\n",
        "# Read the file using the refactored function\n",
        "file_content = read_file_refactored(filename_to_read)\n",
        "\n",
        "if file_content:\n",
        "    print(\"\\nSuccessfully read file content:\")\n",
        "    print(file_content)\n",
        "else:\n",
        "    print(f\"\\nFailed to read file: {filename_to_read}\")\n",
        "\n",
        "# # Attempt to read a non-existent file (original example, commented out)\n",
        "# non_existent_content = read_file_refactored(\"non_existent_file.txt\")\n",
        "# if non_existent_content is None:\n",
        "#     print(\"\\nCould not read non-existent file as expected.\")"
      ],
      "metadata": {
        "id": "lLFXpXlu4oq0"
      },
      "execution_count": null,
      "outputs": []
    },
    {
      "cell_type": "markdown",
      "source": [
        "explanation:def read_file_refactored(filename):: This defines the function that takes one argument, filename, which is the path to the file to be read.\n",
        "\"\"\"Reads a file with proper error handling using with open() and try-except.\"\"\": This is a docstring explaining the purpose of the function and the techniques used for error handling.\n",
        "try:: This block starts a try block, which is used to enclose code that might raise an exception.\n",
        "with open(filename, 'r') as f:: This is a with statement that opens the file specified by filename in read mode ('r'). The with statement ensures that the file is automatically closed even if errors occur. The opened file object is assigned to the variable f.\n",
        "data = f.read(): If the file is opened successfully, this line reads the entire content of the file and stores it in the data variable.\n",
        "return data: If reading is successful, the function returns the file content.\n",
        "except FileNotFoundError:: This is the first except block. If a FileNotFoundError occurs (meaning the file specified by filename does not exist), the code inside this block is executed.\n",
        "print(f\"Error: The file '{filename}' was not found.\"): This line prints an informative error message to the console indicating that the file was not found.\n",
        "return None: The function returns None to indicate that the file could not be read due to a FileNotFoundError.\n",
        "except Exception as e:: This is a general except block that catches any other type of exception that might occur during the file reading process. The exception object is assigned to the variable e.\n",
        "print(f\"An unexpected error occurred while reading the file '{filename}': {e}\"): This line prints a general error message including the filename and the specific error that occurred.\n",
        "return None: The function returns None to indicate that the file could not be read due to an unexpected error.\n",
        "Example usage: The code then provides an example of how to use the read_file_refactored function.\n",
        "It creates a dummy file named \"my_test_file.txt\" for testing purposes.\n",
        "It prompts the user to enter a filename to read using input().\n",
        "It calls read_file_refactored with the provided filename.\n",
        "It checks if the file_content is not None (meaning the file was read successfully) and prints the content or a failure message accordingly.\n",
        "There is also a commented-out section that shows how you could attempt to read a non-existent file to test the FileNotFoundError handling."
      ],
      "metadata": {
        "id": "-Q7-oheB5iSZ"
      }
    },
    {
      "cell_type": "code",
      "source": [
        "task3:Provide this legacy class to AI for readability and modularity improvements"
      ],
      "metadata": {
        "id": "JDxQslVp5ztU"
      },
      "execution_count": null,
      "outputs": []
    },
    {
      "cell_type": "markdown",
      "source": [
        "prompt:generate a code legacy class to AI for readability and modularity improvements class Student:\n",
        "def __init__(self, n, a, m1, m2, m3):\n",
        "self.n = n\n",
        "self.a = a\n",
        "self.m1 = m1\n",
        "self.m2 = m2\n",
        "self.m3 = m3\n",
        "def details(self):\n",
        "print(\"Name:\", self.n, \"Age:\", self.a)\n",
        "def total(self):\n",
        "return self.m1+self.m2+self.m3"
      ],
      "metadata": {
        "id": "7_s3eLZ659bp"
      }
    },
    {
      "cell_type": "code",
      "source": [],
      "metadata": {
        "id": "zn5HJs9f6Zl9"
      },
      "execution_count": null,
      "outputs": []
    },
    {
      "cell_type": "code",
      "metadata": {
        "colab": {
          "base_uri": "https://localhost:8080/"
        },
        "id": "67207460",
        "outputId": "2709319d-da01-45cf-dd6d-d612924a452f"
      },
      "source": [
        "class Student:\n",
        "    \"\"\"Represents a student with their name, age, and three subject marks.\"\"\"\n",
        "\n",
        "    def __init__(self, name, age, mark1, mark2, mark3):\n",
        "        \"\"\"Initializes a new Student object.\"\"\"\n",
        "        self.name = name\n",
        "        self.age = age\n",
        "        self.mark1 = mark1\n",
        "        self.mark2 = mark2\n",
        "        self.mark3 = mark3\n",
        "\n",
        "    def display_details(self):\n",
        "        \"\"\"Prints the student's name and age.\"\"\"\n",
        "        print(f\"Name: {self.name}, Age: {self.age}\")\n",
        "\n",
        "    def calculate_total_marks(self):\n",
        "        \"\"\"Calculates and returns the total marks of the student.\"\"\"\n",
        "        return self.mark1 + self.mark2 + self.mark3\n",
        "\n",
        "# Example usage:\n",
        "student1 = Student(\"Alice\", 16, 85, 90, 78)\n",
        "student1.display_details()\n",
        "print(\"Total Marks:\", student1.calculate_total_marks())"
      ],
      "execution_count": 4,
      "outputs": [
        {
          "output_type": "stream",
          "name": "stdout",
          "text": [
            "Name: Alice, Age: 16\n",
            "Total Marks: 253\n"
          ]
        }
      ]
    },
    {
      "cell_type": "code",
      "source": [
        "task3:Refactor this inefficient loop with AI help"
      ],
      "metadata": {
        "id": "SMiNdhYL6hpa"
      },
      "execution_count": null,
      "outputs": []
    },
    {
      "cell_type": "markdown",
      "source": [
        "prompt:generate a code Refactor this inefficient loop with AI help nums = [1,2,3,4,5,6,7,8,9,10]\n",
        "squares = []\n",
        "for i in nums:\n",
        "squares.append(i * i)"
      ],
      "metadata": {
        "id": "4IEVjRSL6oZJ"
      }
    },
    {
      "cell_type": "code",
      "source": [],
      "metadata": {
        "id": "RsGvXl3g6y_E"
      },
      "execution_count": null,
      "outputs": []
    },
    {
      "cell_type": "code",
      "metadata": {
        "colab": {
          "base_uri": "https://localhost:8080/"
        },
        "id": "e07c613e",
        "outputId": "d7570da4-15d9-4daf-b30c-1424891026a1"
      },
      "source": [
        "nums = [1, 2, 3, 4, 5, 6, 7, 8, 9, 10]\n",
        "\n",
        "# Refactored using a list comprehension\n",
        "squares = [i * i for i in nums]\n",
        "\n",
        "print(squares)"
      ],
      "execution_count": 6,
      "outputs": [
        {
          "output_type": "stream",
          "name": "stdout",
          "text": [
            "[1, 4, 9, 16, 25, 36, 49, 64, 81, 100]\n"
          ]
        }
      ]
    },
    {
      "cell_type": "markdown",
      "source": [
        "explanation:nums = [1, 2, 3, 4, 5, 6, 7, 8, 9, 10]: This line initializes a list named nums with integers from 1 to 10.\n",
        "\n",
        "squares = [i * i for i in nums]: This is the core of the refactoring and is called a list comprehension. It's a concise way to create lists. Let's break it down:\n",
        "\n",
        "[ ... ]: This indicates that we are creating a new list.\n",
        "i * i: This is the expression that is evaluated for each item in the original list. In this case, it squares the item.\n",
        "for i in nums: This is the loop that iterates through each element in the nums list. For each iteration, the current element is assigned to the variable i.\n",
        "So, for each number i in the nums list, the list comprehension calculates i * i and adds the result to the new list called squares. This achieves the same result as the original for loop but in a more compact and often more readable way.\n",
        "\n",
        "print(squares): This line prints the resulting squares list to the console."
      ],
      "metadata": {
        "id": "-7Y3Slfn7ePu"
      }
    }
  ]
}